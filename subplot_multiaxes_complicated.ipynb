{
 "cells": [
  {
   "cell_type": "code",
   "execution_count": 43,
   "metadata": {
    "collapsed": false
   },
   "outputs": [
    {
     "data": {
      "text/html": [
       "<iframe id=\"igraph\" scrolling=\"no\" style=\"border:none;\" seamless=\"seamless\" src=\"https://plot.ly/~kevintest/186.embed\" height=\"600px\" width=\"600px\"></iframe>"
      ],
      "text/plain": [
       "<plotly.tools.PlotlyDisplay object>"
      ]
     },
     "execution_count": 43,
     "metadata": {},
     "output_type": "execute_result"
    }
   ],
   "source": [
    "from plotly import tools\n",
    "import plotly.plotly as py\n",
    "import plotly.graph_objs as go\n",
    "\n",
    "trace1 = go.Scatter(\n",
    "    x=[0, 1, 2],\n",
    "    y=[10, 11, 12],\n",
    "    xaxis='x1',\n",
    "    yaxis='y1'\n",
    ")\n",
    "trace2 = go.Scatter(\n",
    "    x=[2, 3, 4],\n",
    "    y=[15, 16, 17],\n",
    "    yaxis='y2'\n",
    ")\n",
    "\n",
    "trace3 = go.Scatter(\n",
    "        x=[0,1,2],\n",
    "        y=[4,5,6],\n",
    "        xaxis='x3',\n",
    "        yaxis='y3'\n",
    ")\n",
    "\n",
    "trace4 = go.Scatter(\n",
    "        x=[0,5,9],\n",
    "        y=[9,6,3],\n",
    "        xaxis='x4',\n",
    "        yaxis='y4'\n",
    ")\n",
    "\n",
    "trace5 = go.Scatter(\n",
    "        x=[1,2,3],\n",
    "        y=[4,5,6],\n",
    "        yaxis='y5',\n",
    "        xaxis='x4'\n",
    ")\n",
    "\n",
    "\n",
    "data=[trace1,trace2,trace3,trace4,trace5]\n",
    "\n",
    "layout = go.Layout(height=600,width=600, title='subplots and multiaxes',\n",
    "                   \n",
    "                    xaxis=dict(title='shared x axis', domain = [0.55,1]),\n",
    "                    yaxis=dict(title='yaxis1',domain=[0,.30]),                    \n",
    "                    yaxis2=dict(overlaying='y1',side='right', anchor='x'),\n",
    "                    xaxis3=dict(title='xaxis3', anchor='y3', domain=[0,0.45]),\n",
    "                    yaxis3=dict(title='yaxis3', anchor='x3',domain=[0.33,0.63]),\n",
    "                    \n",
    "                    xaxis4=dict(title='xaxis4', anchor='y4',domain=[0,1]),\n",
    "                    yaxis4=dict(title='yaxis4', anchor='x4',domain=[0.66,1]),\n",
    "                    \n",
    "                    yaxis5=dict(title='yaxis5', overlaying='y4', side='right', anchor='x4'),\n",
    "            \n",
    "                    showlegend=False\n",
    "                   \n",
    "                   )  \n",
    "\n",
    "fig = go.Figure(data=data,layout=layout)\n",
    "py.iplot(fig)"
   ]
  },
  {
   "cell_type": "code",
   "execution_count": 34,
   "metadata": {
    "collapsed": false
   },
   "outputs": [],
   "source": [
    "import json\n",
    "dump = json.dumps(fig)"
   ]
  },
  {
   "cell_type": "code",
   "execution_count": 40,
   "metadata": {
    "collapsed": false
   },
   "outputs": [],
   "source": [
    "decode = json.loads(dump)"
   ]
  },
  {
   "cell_type": "code",
   "execution_count": 41,
   "metadata": {
    "collapsed": false
   },
   "outputs": [
    {
     "data": {
      "text/plain": [
       "{u'data': [{u'type': u'scatter',\n",
       "   u'x': [0, 1, 2],\n",
       "   u'xaxis': u'x1',\n",
       "   u'y': [10, 11, 12],\n",
       "   u'yaxis': u'y1'},\n",
       "  {u'type': u'scatter', u'x': [2, 3, 4], u'y': [15, 16, 17], u'yaxis': u'y2'},\n",
       "  {u'type': u'scatter',\n",
       "   u'x': [0, 1, 2],\n",
       "   u'xaxis': u'x3',\n",
       "   u'y': [4, 5, 6],\n",
       "   u'yaxis': u'y3'},\n",
       "  {u'type': u'scatter',\n",
       "   u'x': [0, 5, 9],\n",
       "   u'xaxis': u'x4',\n",
       "   u'y': [9, 6, 3],\n",
       "   u'yaxis': u'y4'},\n",
       "  {u'type': u'scatter', u'x': [1, 2, 3], u'y': [4, 5, 6], u'yaxis': u'y5'}],\n",
       " u'layout': {u'height': 600,\n",
       "  u'showlegend': False,\n",
       "  u'title': u'subplots and multiaxes',\n",
       "  u'width': 600,\n",
       "  u'xaxis': {u'domain': [0.55, 1], u'title': u'shared x axis'},\n",
       "  u'xaxis3': {u'anchor': u'y3', u'domain': [0, 0.45], u'title': u'xaxis3'},\n",
       "  u'xaxis4': {u'anchor': u'y4', u'domain': [0, 1], u'title': u'xaxis4'},\n",
       "  u'yaxis': {u'domain': [0, 0.3], u'title': u'yaxis1'},\n",
       "  u'yaxis2': {u'anchor': u'x', u'overlaying': u'y1', u'side': u'right'},\n",
       "  u'yaxis3': {u'anchor': u'x3', u'domain': [0.33, 0.63], u'title': u'yaxis3'},\n",
       "  u'yaxis4': {u'anchor': u'x4', u'domain': [0.66, 1], u'title': u'yaxis4'},\n",
       "  u'yaxis5': {u'anchor': u'x4',\n",
       "   u'overlaying': u'y4',\n",
       "   u'side': u'right',\n",
       "   u'title': u'yaxis5'}}}"
      ]
     },
     "execution_count": 41,
     "metadata": {},
     "output_type": "execute_result"
    }
   ],
   "source": [
    "decode"
   ]
  },
  {
   "cell_type": "code",
   "execution_count": 42,
   "metadata": {
    "collapsed": false
   },
   "outputs": [
    {
     "data": {
      "text/html": [
       "<iframe id=\"igraph\" scrolling=\"no\" style=\"border:none;\" seamless=\"seamless\" src=\"https://plot.ly/~kevintest/184.embed\" height=\"600px\" width=\"600px\"></iframe>"
      ],
      "text/plain": [
       "<plotly.tools.PlotlyDisplay object>"
      ]
     },
     "execution_count": 42,
     "metadata": {},
     "output_type": "execute_result"
    }
   ],
   "source": [
    "py.iplot(decode)"
   ]
  },
  {
   "cell_type": "code",
   "execution_count": null,
   "metadata": {
    "collapsed": true
   },
   "outputs": [],
   "source": []
  }
 ],
 "metadata": {
  "kernelspec": {
   "display_name": "Python 2",
   "language": "python",
   "name": "python2"
  },
  "language_info": {
   "codemirror_mode": {
    "name": "ipython",
    "version": 2
   },
   "file_extension": ".py",
   "mimetype": "text/x-python",
   "name": "python",
   "nbconvert_exporter": "python",
   "pygments_lexer": "ipython2",
   "version": "2.7.9"
  }
 },
 "nbformat": 4,
 "nbformat_minor": 0
}
