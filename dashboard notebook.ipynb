{
 "cells": [
  {
   "cell_type": "code",
   "execution_count": 2,
   "metadata": {
    "collapsed": false
   },
   "outputs": [],
   "source": [
    "import plotly.plotly as py\n",
    "\n",
    "## First, make some graphs to embed in the dashboard.\n",
    "# See more examples: https://plot.ly/python\n",
    "graph_url1 = py.plot({\n",
    "    'data': [{'x': [1, 2, 3], 'y': [3, 1, 5]}],\n",
    "    'layout': {\n",
    "        'title': 'earnings',\n",
    "        # graphs embedded in dashboards look best if the margins are tightened up\n",
    "        'margin': {'l': 30, 'r': 30, 'b': 30, 't': 60}\n",
    "    }\n",
    "}, filename='dashboard/earnings',\n",
    "   sharing='secret') # more about privacy settings: https://plot.ly/python/privacy\n",
    "\n",
    "graph_url2 = py.plot({\n",
    "    'data': [{'x': [1, 2, 3], 'y': [3, 40, 5]}],\n",
    "    'layout': {\n",
    "        'title': 'growth',\n",
    "        'margin': {'l': 30, 'r': 30, 'b': 30, 't': 60}\n",
    "    }\n",
    "}, filename='dashboard/growth', sharing='secret')\n",
    "\n",
    "graph_url3 = py.plot({\n",
    "    'data': [{'x': [1, 2, 3], 'y': [10, 6l, 2]}],\n",
    "    'layout': {\n",
    "        'title': 'performance',\n",
    "        'margin': {'l': 30, 'r': 30, 'b': 30, 't': 60}\n",
    "    }\n",
    "}, filename='dashboard/performance', sharing='secret')\n",
    "\n"
   ]
  },
  {
   "cell_type": "code",
   "execution_count": 9,
   "metadata": {
    "collapsed": false
   },
   "outputs": [],
   "source": [
    "import requests, json\n",
    "\n",
    "dashboard_json = {\n",
    "    \"rows\": [\n",
    "        [{\"plot_url\": graph_url1}, {\"plot_url\": graph_url2}],\n",
    "        [{\"plot_url\": graph_url3}]\n",
    "    ],\n",
    "    \"banner\": {\n",
    "        \"visible\": True,\n",
    "        \"backgroundcolor\": \"#3d4a57\",\n",
    "        \"textcolor\": \"white\",\n",
    "        \"title\": \"Quarterly Outlook\",\n",
    "        \"links\": []\n",
    "    },\n",
    "    \"requireauth\": False,\n",
    "    \"auth\": {\n",
    "        \"username\": \"Acme Corp\",\n",
    "        \"passphrase\": \"\"\n",
    "    }\n",
    "}\n"
   ]
  },
  {
   "cell_type": "code",
   "execution_count": 11,
   "metadata": {
    "collapsed": false
   },
   "outputs": [
    {
     "name": "stdout",
     "output_type": "stream",
     "text": [
      "dashboard url: https://dashboards.ly/ua-cDbfHVx79oMBswU2ntCMzK\n"
     ]
    }
   ],
   "source": [
    "response = requests.post('https://dashboards.ly/publish',\n",
    "                         data={'dashboard': json.dumps(dashboard_json)},\n",
    "                         headers={'content-type': 'application/x-www-form-urlencoded'})\n",
    "\n",
    "response.raise_for_status()\n",
    "\n",
    "dashboard_url = response.json()['url']\n",
    "print('dashboard url: https://dashboards.ly{}'.format(dashboard_url))"
   ]
  },
  {
   "cell_type": "code",
   "execution_count": 12,
   "metadata": {
    "collapsed": false
   },
   "outputs": [
    {
     "data": {
      "text/plain": [
       "u'https://plot.ly/~kevintest/7?share_key=oUmQcQ5lAuPge4seGtoExj'"
      ]
     },
     "execution_count": 12,
     "metadata": {},
     "output_type": "execute_result"
    }
   ],
   "source": [
    "graph_url1"
   ]
  },
  {
   "cell_type": "code",
   "execution_count": 13,
   "metadata": {
    "collapsed": false
   },
   "outputs": [
    {
     "data": {
      "text/plain": [
       "u'https://plot.ly/~kevintest/9?share_key=cSV7Qn7wuQgjr72frxQlu1'"
      ]
     },
     "execution_count": 13,
     "metadata": {},
     "output_type": "execute_result"
    }
   ],
   "source": [
    "graph_url2"
   ]
  },
  {
   "cell_type": "code",
   "execution_count": 14,
   "metadata": {
    "collapsed": false
   },
   "outputs": [
    {
     "data": {
      "text/plain": [
       "u'https://plot.ly/~kevintest/11?share_key=teEIWgefUmALuIPtD1JnqD'"
      ]
     },
     "execution_count": 14,
     "metadata": {},
     "output_type": "execute_result"
    }
   ],
   "source": [
    "graph_url3"
   ]
  },
  {
   "cell_type": "code",
   "execution_count": 15,
   "metadata": {
    "collapsed": true
   },
   "outputs": [],
   "source": [
    "from IPython.display import IFrame"
   ]
  },
  {
   "cell_type": "code",
   "execution_count": 33,
   "metadata": {
    "collapsed": false
   },
   "outputs": [
    {
     "data": {
      "text/plain": [
       "u'/ua-cDbfHVx79oMBswU2ntCMzK'"
      ]
     },
     "execution_count": 33,
     "metadata": {},
     "output_type": "execute_result"
    }
   ],
   "source": [
    "dashboard_url"
   ]
  },
  {
   "cell_type": "code",
   "execution_count": 34,
   "metadata": {
    "collapsed": false
   },
   "outputs": [
    {
     "data": {
      "text/html": [
       "\n",
       "        <iframe\n",
       "            width=\"100%\"\n",
       "            height=\"800\"\n",
       "            src=\"https://dashboards.ly/ua-cDbfHVx79oMBswU2ntCMzK\"\n",
       "            frameborder=\"0\"\n",
       "            allowfullscreen\n",
       "        ></iframe>\n",
       "        "
      ],
      "text/plain": [
       "<IPython.lib.display.IFrame at 0x108fc9a50>"
      ]
     },
     "execution_count": 34,
     "metadata": {},
     "output_type": "execute_result"
    }
   ],
   "source": [
    "IFrame(\"https://dashboards.ly\"+dashboard_url,width=\"100%\", height=800)"
   ]
  },
  {
   "cell_type": "code",
   "execution_count": null,
   "metadata": {
    "collapsed": true
   },
   "outputs": [],
   "source": []
  }
 ],
 "metadata": {
  "kernelspec": {
   "display_name": "Python 2",
   "language": "python",
   "name": "python2"
  },
  "language_info": {
   "codemirror_mode": {
    "name": "ipython",
    "version": 2
   },
   "file_extension": ".py",
   "mimetype": "text/x-python",
   "name": "python",
   "nbconvert_exporter": "python",
   "pygments_lexer": "ipython2",
   "version": "2.7.9"
  }
 },
 "nbformat": 4,
 "nbformat_minor": 0
}
