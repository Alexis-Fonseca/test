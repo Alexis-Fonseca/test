{
 "cells": [
  {
   "cell_type": "markdown",
   "metadata": {},
   "source": [
    "## Slider + Plotly Graph\n"
   ]
  },
  {
   "cell_type": "code",
   "execution_count": 21,
   "metadata": {
    "collapsed": false
   },
   "outputs": [
    {
     "data": {
      "text/html": [
       "<div id=\"2d2484c4-b081-44f9-974d-5df994deb12b\" style=\"height: 525; width: 100%;\" class=\"plotly-graph-div\"></div><script type=\"text/javascript\">window.PLOTLYENV=window.PLOTLYENV || {};window.PLOTLYENV.BASE_URL=\"https://plot.ly\";Plotly.newPlot(\"2d2484c4-b081-44f9-974d-5df994deb12b\", [{\"y\": [4, 5, 6], \"x\": [26, 27, 28], \"type\": \"scatter\"}, {\"y\": [4, 5, 6], \"x\": [1, 2, 3], \"type\": \"scatter\"}], {}, {\"linkText\": \"Export to plot.ly\", \"showLink\": true})</script>"
      ],
      "text/plain": [
       "<IPython.core.display.HTML object>"
      ]
     },
     "metadata": {},
     "output_type": "display_data"
    }
   ],
   "source": [
    "import plotly\n",
    "from plotly.graph_objs import graph_objs as go\n",
    "from IPython.html.widgets import interact\n",
    "\n",
    "plotly.offline.init_notebook_mode()\n",
    "from plotly.offline import iplot\n",
    "def view_image(w):\n",
    "    x_data = [1,2,3]\n",
    "    x1 = [i+w for i in x_data]\n",
    "    fig1 = go.Scatter(x=x1,y=[4,5,6])\n",
    "    fig2 = go.Scatter(x=x_data,y=[4,5,6])\n",
    "    iplot([fig1,fig2])\n",
    "interact(view_image, w=(0,100))\n"
   ]
  },
  {
   "cell_type": "markdown",
   "metadata": {
    "collapsed": true
   },
   "source": [
    "<img src=\"https://raw.githubusercontent.com/yankev/test/master/sliderplotly.png\">"
   ]
  },
  {
   "cell_type": "code",
   "execution_count": null,
   "metadata": {
    "collapsed": true
   },
   "outputs": [],
   "source": []
  }
 ],
 "metadata": {
  "kernelspec": {
   "display_name": "Python 2",
   "language": "python",
   "name": "python2"
  },
  "language_info": {
   "codemirror_mode": {
    "name": "ipython",
    "version": 2
   },
   "file_extension": ".py",
   "mimetype": "text/x-python",
   "name": "python",
   "nbconvert_exporter": "python",
   "pygments_lexer": "ipython2",
   "version": "2.7.9"
  }
 },
 "nbformat": 4,
 "nbformat_minor": 0
}
