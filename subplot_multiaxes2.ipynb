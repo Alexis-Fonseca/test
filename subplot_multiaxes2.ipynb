{
 "cells": [
  {
   "cell_type": "code",
   "execution_count": 12,
   "metadata": {
    "collapsed": false
   },
   "outputs": [
    {
     "data": {
      "text/html": [
       "<iframe id=\"igraph\" scrolling=\"no\" style=\"border:none;\" seamless=\"seamless\" src=\"https://plot.ly/~kevintest/154.embed\" height=\"600px\" width=\"600px\"></iframe>"
      ],
      "text/plain": [
       "<plotly.tools.PlotlyDisplay object>"
      ]
     },
     "execution_count": 12,
     "metadata": {},
     "output_type": "execute_result"
    }
   ],
   "source": [
    "from plotly import tools\n",
    "import plotly.plotly as py\n",
    "import plotly.graph_objs as go\n",
    "\n",
    "trace1 = go.Scatter(\n",
    "    x=[0, 1, 2],\n",
    "    y=[10, 11, 12],\n",
    "    xaxis='x1',\n",
    "    yaxis='y1'\n",
    ")\n",
    "trace2 = go.Scatter(\n",
    "    x=[2, 3, 4],\n",
    "    y=[15, 16, 17],\n",
    "    yaxis='y2'\n",
    ")\n",
    "\n",
    "trace3 = go.Scatter(\n",
    "        x=[0,1,2],\n",
    "        y=[4,5,6],\n",
    "        xaxis='x3',\n",
    "        yaxis='y3'\n",
    "\n",
    ")\n",
    "\n",
    "data=[trace1,trace2,trace3]\n",
    "\n",
    "layout = go.Layout(height=600,width=600, title='subplots and multiaxes',\n",
    "                   \n",
    "                    xaxis=dict(title='shared x axis'),\n",
    "                    yaxis=dict(title='yaxis1',domain=[0,.45]),                    \n",
    "                    yaxis2=dict(overlaying='y1',side='right'),\n",
    "                    xaxis3=dict(title='xaxis3', anchor='y3'),\n",
    "                    yaxis3=dict(title='yaxis3', anchor='x3',domain=[0.55,1])\n",
    "                   \n",
    "                   )  \n",
    "\n",
    "fig = go.Figure(data=data,layout=layout)\n",
    "py.iplot(fig)"
   ]
  },
  {
   "cell_type": "code",
   "execution_count": null,
   "metadata": {
    "collapsed": false
   },
   "outputs": [],
   "source": []
  },
  {
   "cell_type": "code",
   "execution_count": null,
   "metadata": {
    "collapsed": true
   },
   "outputs": [],
   "source": []
  }
 ],
 "metadata": {
  "kernelspec": {
   "display_name": "Python 2",
   "language": "python",
   "name": "python2"
  },
  "language_info": {
   "codemirror_mode": {
    "name": "ipython",
    "version": 2
   },
   "file_extension": ".py",
   "mimetype": "text/x-python",
   "name": "python",
   "nbconvert_exporter": "python",
   "pygments_lexer": "ipython2",
   "version": "2.7.9"
  }
 },
 "nbformat": 4,
 "nbformat_minor": 0
}
